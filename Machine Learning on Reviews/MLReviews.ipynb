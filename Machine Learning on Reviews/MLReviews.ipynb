{
 "cells": [
  {
   "cell_type": "code",
   "execution_count": 5,
   "metadata": {},
   "outputs": [],
   "source": [
    "# Helper functions\n",
    "def load_input(file_name):\n",
    "    raw_input = []\n",
    "    for line in open(file_name):\n",
    "        raw_input.append(eval('(' + line + ')'))\n",
    "    return raw_input\n",
    "\n",
    "def categoryToInt(label):\n",
    "    if(label == 'Books'):\n",
    "        return 0\n",
    "    if(label == 'Movies & TV'):\n",
    "        return 1\n",
    "    if(label == 'Music'):\n",
    "        return 2\n",
    "    return -1"
   ]
  },
  {
   "cell_type": "code",
   "execution_count": 6,
   "metadata": {},
   "outputs": [],
   "source": [
    "# load data from files\n",
    "def make_training(product_file_name, review_file_name):\n",
    "    raw_products=load_input(product_file_name) \n",
    "    raw_reviews=load_input(review_file_name) \n",
    "    products_dict = {} \n",
    "    reviews_dict = {} \n",
    "    txts = []\n",
    "    ys = []    \n",
    "    asins=[] \n",
    "    \n",
    "    for each_product in raw_products: \n",
    "        text = ''\n",
    "        if('title' in  each_product.keys()):\n",
    "            text += each_product['title']\n",
    "        if('description' in  each_product.keys()):\n",
    "            text += ' ' + each_product['description']\n",
    "        category = categoryToInt(list(each_product['salesRank'].keys())[0])\n",
    "        products_dict[each_product['asin']] = [category, text]\n",
    "        \n",
    "    for each_review in raw_reviews:\n",
    "        txt = each_review['summary'] + ' ' + each_review['reviewText']\n",
    "        if(each_review['asin'] in reviews_dict.keys()):\n",
    "            reviews_dict[each_review['asin']] += txt\n",
    "        else:\n",
    "            reviews_dict[each_review['asin']] = txt\n",
    "\n",
    "    for asin, review_words in reviews_dict.items():\n",
    "        txts.append(review_words + products_dict[asin][1])\n",
    "        ys.append(products_dict[asin][0])\n",
    "        asins.append(asin)     \n",
    "   \n",
    "    return txts,ys"
   ]
  },
  {
   "cell_type": "code",
   "execution_count": 7,
   "metadata": {},
   "outputs": [],
   "source": [
    "from sklearn.feature_extraction.text import CountVectorizer\n",
    "from sklearn.naive_bayes import MultinomialNB\n",
    "from sklearn.feature_selection import SelectKBest\n",
    "from sklearn.feature_selection import mutual_info_classif\n",
    "\n",
    "v = CountVectorizer(stop_words='english') \n",
    "def build_model(product_file_name=\"products.txt\", review_file_name=\"reviews.txt\"):\n",
    "    texts, y = make_training(product_file_name, review_file_name)\n",
    "    b = MultinomialNB()\n",
    "    X = v.fit_transform(texts)\n",
    "    b.fit(X, y)\n",
    "    kbest = SelectKBest(mutual_info_classif, 730)\n",
    "    Xnew=kbest.fit_transform(X,y)\n",
    "    b.fit(Xnew,y)\n",
    "    return b"
   ]
  },
  {
   "cell_type": "code",
   "execution_count": 8,
   "metadata": {},
   "outputs": [],
   "source": [
    "from sklearn.feature_extraction.text import CountVectorizer\n",
    "from sklearn.feature_selection import SelectKBest\n",
    "from sklearn.feature_selection import mutual_info_classif\n",
    "\n",
    "def prepare_data(product_file_name, review_file_name):   \n",
    "    txts, y = make_training(product_file_name, review_file_name)\n",
    "    X = v.fit_transform(txts)\n",
    "    kbest = SelectKBest(mutual_info_classif, 730)\n",
    "    Xnew = kbest.fit_transform(X,y)\n",
    "    return Xnew, y  "
   ]
  },
  {
   "cell_type": "markdown",
   "metadata": {},
   "source": [
    "-----------------------------------------------------------------------------\n",
    "### Documenting your Decisions\n"
   ]
  },
  {
   "cell_type": "markdown",
   "metadata": {},
   "source": [
    "#### Evaluation and Analysis\n",
    "\n",
    "In answering these questions, please be sure to show your work, for example output of commands you used to gather data supporting your decisions.   For each of the cells below containing a question, please leave the question header and text in the notbook you subnmit.  Put you answer in markdown in the same cell, and add additional cells below the question/answer cell for supporting data (output, tables, graphics).  I will evaluate your notebook from beginning to end prior to evaluating the model or reading your analysis.\n"
   ]
  },
  {
   "cell_type": "markdown",
   "metadata": {},
   "source": [
    "----------------------------\n",
    "#### Model Quality\n",
    "\n",
    "What do you expect the accuracy of your model to be on a new set of product records it has not seen before?\n",
    "How many variables are in your model?\n",
    "\n",
    "#### ---Answer---\n",
    "We expect an accuray similar to 0.9038. In order to double check the accuracy, we used new test data \"products_test.txt\", \"reviews_test.txt\" and got even better score 0.92. \n",
    "\n",
    "The variables in our model are two:\n",
    "* stopwords='english'\n",
    "* KBest of 730"
   ]
  },
  {
   "cell_type": "code",
   "execution_count": 11,
   "metadata": {},
   "outputs": [],
   "source": [
    "from sklearn.model_selection import cross_val_score\n",
    "def cross_validate(clf, x, y):\n",
    "    return cross_val_score(clf,x,y,cv=10).mean()"
   ]
  },
  {
   "cell_type": "code",
   "execution_count": 12,
   "metadata": {},
   "outputs": [
    {
     "name": "stdout",
     "output_type": "stream",
     "text": [
      "(99, 730)\n",
      "Model accuracy on original training data: 0.903888888888889\n"
     ]
    }
   ],
   "source": [
    "our_model = build_model(\"products.txt\", \"reviews.txt\")\n",
    "X, y = prepare_data(\"products.txt\", \"reviews.txt\")\n",
    "print(X.shape)\n",
    "print(f'Model accuracy on original training data: {cross_val_score(our_model, X, y, cv=10).mean()}')"
   ]
  },
  {
   "cell_type": "markdown",
   "metadata": {},
   "source": [
    "------------------------------------------------\n",
    "#### Input Fields\n",
    "\n",
    "What input fields from the product and review records did you include in training your model?\n",
    "How did you decide which fields to use and which to omit?\n",
    "\n",
    "#### ---Answer---\n",
    "\n",
    "products:\n",
    "\n",
    "| Field | Included? | decision |\n",
    "|---|---|---|\n",
    "| asin         | No  | It is most likely to be unique, so not giving enough information |\n",
    "| brand        | No  | It is not representative. For example, brand Disney could be music, movies, or books |\n",
    "| categories   | No  | Not allowed |\n",
    "| description  | Yes | It is likely to have useful words like \"Oscars award..\", \"Best seller book\"|\n",
    "| imUrl        | No  | URL characteres without much information |\n",
    "| price        | No  | It is not representative. Some samples could have the same price for a book, music, and movies |\n",
    "| related      | No  | Even though we could expect that realted asins be the same class, that could be not true all the time. The related items could be anything, for example Harry Potter book could be realted to Harry Potter movies, and Harry Potter BSO. In addition, we would be trusting on Amazon recomendation algorithm |\n",
    "| salesRank    | Yes | Our ground truth (ys) |\n",
    "| title        | Yes | May contain useful information, for example Scary Movie gives a clear hint about what it is |\n",
    "\n",
    "reviews:\n",
    "\n",
    "| Field | Included? | decision |\n",
    "|---|---|---|\n",
    "| asin           | No  |Most likely to be unique |\n",
    "| helpful        | No  |A value that it is not realted to the class. Not because it is helpful at some degree means it is a book or anything else |\n",
    "| overall        | No  | Same as \"helpful\". a book, a movie, and music disc could have the same overall  |\n",
    "| reviewerID     | No  | A user could buy anything. Maybe some users tend to buy only books, but some day decided to buy a movie as a gift for someone else, so it is hard to predict the class based on a particular user|\n",
    "| reviewerName   | No  | Users does not tend to buy a particular type of product just for the name they have |\n",
    "| reviewText     | Yes | It is likely to have useful words like \"read\", \"heard\" |\n",
    "| reviewTime     | No  | Users could buy any product at any time. No because some users commented a book at 3 PM means that all the reviews at 3 PM are books  |\n",
    "| summary        | Yes | May contain useful information with words as description field (\"read\", \"listen\"..) |\n",
    "| unixReviewTime | No  | same as reviewTime |"
   ]
  },
  {
   "cell_type": "markdown",
   "metadata": {},
   "source": [
    "-------------------------------------------\n",
    "#### Preprocessing\n",
    "\n",
    "What preprocessing steps did you use?  At minimum you must evaluate stemming, tokenizing, stop word removal.  How did you decide which steps improved the model and which did not?\n",
    "\n",
    "#### ---Answer---\n",
    "we tried stemming and stop words removal in our model. Our decision in this part is \"with stop words, without stemming\".\n",
    "\n",
    "To test if stemming works, we wrote function tokenize_and_stem(text) to serve as tokenizer parameter in CountVectorizer() instance. For simplicity of controlling other variables, we used MultinomialNB as classifier and CountVectorizer as vectorizer. The comparison of cross_vali score is as follow,\n"
   ]
  },
  {
   "cell_type": "code",
   "execution_count": 13,
   "metadata": {},
   "outputs": [],
   "source": [
    "from sklearn.model_selection import cross_val_score\n",
    "def cross_validate(clf, x, y):\n",
    "    return cross_val_score(clf,x,y,cv=10).mean()"
   ]
  },
  {
   "cell_type": "code",
   "execution_count": 14,
   "metadata": {},
   "outputs": [],
   "source": [
    "import nltk\n",
    "from nltk.stem import PorterStemmer\n",
    "import string\n",
    "\n",
    "stemmer = PorterStemmer()\n",
    "def tokenize_and_stem(text):\n",
    "    tokens = nltk.tokenize.word_tokenize(text)\n",
    "    tokens = [token.lower().strip(string.punctuation)\n",
    "              for token in tokens if token.isalnum()]\n",
    "    tokens = [stemmer.stem(token) for token in tokens]\n",
    "    return tokens"
   ]
  },
  {
   "cell_type": "code",
   "execution_count": 15,
   "metadata": {},
   "outputs": [
    {
     "name": "stdout",
     "output_type": "stream",
     "text": [
      "preprocessing with stemming 0.7255555555555556\n",
      "preprocessing without stemming 0.7577777777777779\n"
     ]
    }
   ],
   "source": [
    "from sklearn.naive_bayes import MultinomialNB\n",
    "\n",
    "txts,y = make_training(\"products.txt\",\"reviews.txt\")\n",
    "nb=MultinomialNB()\n",
    "\n",
    "v =  CountVectorizer(tokenizer=tokenize_and_stem)\n",
    "X = v.fit_transform(txts) \n",
    "print(f\"preprocessing with stemming {cross_validate(nb, X, y)}\")\n",
    "\n",
    "v =  CountVectorizer()\n",
    "X = v.fit_transform(txts) \n",
    "print(f\"preprocessing without stemming {cross_validate(nb, X, y)}\")\n"
   ]
  },
  {
   "cell_type": "markdown",
   "metadata": {},
   "source": [
    "From above comparison, we found stemming decreased our score, so we forsook stemming. To test if stop words works, we set parameter stop_words as \"english\" in CountVectorizer(), the comparison results are as follow,\n",
    "\n",
    "\n"
   ]
  },
  {
   "cell_type": "code",
   "execution_count": 16,
   "metadata": {},
   "outputs": [
    {
     "name": "stdout",
     "output_type": "stream",
     "text": [
      "preprocessing with stop words 0.8027777777777778\n",
      "preprocessing without stop words 0.7577777777777779\n"
     ]
    }
   ],
   "source": [
    "txts,y = make_training(\"products.txt\",\"reviews.txt\")\n",
    "nb=MultinomialNB()\n",
    "\n",
    "v =  CountVectorizer(stop_words='english')\n",
    "X = v.fit_transform(txts) \n",
    "print(f\"preprocessing with stop words {cross_validate(nb, X, y)}\")\n",
    "\n",
    "v =  CountVectorizer()\n",
    "X = v.fit_transform(txts) \n",
    "print(f\"preprocessing without stop words {cross_validate(nb, X, y)}\")"
   ]
  },
  {
   "cell_type": "markdown",
   "metadata": {},
   "source": [
    "From above comparison, the score got improved by adding stop_words parameter, so we decided to keep it. "
   ]
  },
  {
   "cell_type": "markdown",
   "metadata": {},
   "source": [
    "---------------------------------------------\n",
    "#### Vectorization\n",
    "\n",
    "What technique did you use to turn the input features into a feature vector?  How did you make that choice?\n",
    "\n",
    "#### ---Answer---\n",
    "While in previous part we set CountVectorizer as fixed vectorzier for testing stemming and stop_words removal, we would go one step back and show why we chose CountVectorizer. Below are the perfomance of CountVectorizer and TfidfVectorizer performance based on MultinomialNB classifier."
   ]
  },
  {
   "cell_type": "code",
   "execution_count": 17,
   "metadata": {},
   "outputs": [],
   "source": [
    "from sklearn.model_selection import cross_val_score\n",
    "def cross_validate(clf, x, y):\n",
    "    return cross_val_score(clf,x,y,cv=10).mean()"
   ]
  },
  {
   "cell_type": "code",
   "execution_count": 18,
   "metadata": {},
   "outputs": [
    {
     "name": "stdout",
     "output_type": "stream",
     "text": [
      "Count Vectorizer score 0.7577777777777779\n",
      "Tfidf Vectorizer score 0.6444444444444446\n"
     ]
    }
   ],
   "source": [
    "from sklearn.naive_bayes import MultinomialNB\n",
    "from sklearn.feature_extraction.text import CountVectorizer\n",
    "from sklearn.feature_extraction.text import TfidfVectorizer\n",
    "\n",
    "txts,y=make_training(\"products.txt\", \"reviews.txt\")\n",
    "nb = MultinomialNB()\n",
    "\n",
    "v = CountVectorizer()\n",
    "X = v.fit_transform(txts) \n",
    "print(f\"Count Vectorizer score {cross_validate(nb, X, y)}\")\n",
    "\n",
    "v = TfidfVectorizer()   \n",
    "X = v.fit_transform(txts)   \n",
    "print(f\"Tfidf Vectorizer score {cross_validate(nb, X, y)}\")\n"
   ]
  },
  {
   "cell_type": "markdown",
   "metadata": {},
   "source": [
    "From above comparison, CountVectorizer() behaved 11% better than TfidfVectorizer(), so we decided to use CountVectorizer(). Then we were teawking the default parameters inside CountVectorizer() for possible better performance, for example, perhaps bi-gram or one-gram? Also we can consider adding the stop_words parameter from last document part into CountVectorizer() to see how it behaves. Following are results from combinations of different parameters inside CountVectorizer()."
   ]
  },
  {
   "cell_type": "code",
   "execution_count": 19,
   "metadata": {},
   "outputs": [
    {
     "name": "stdout",
     "output_type": "stream",
     "text": [
      "Count Vectorizer with default parameter 0.7577777777777779\n",
      "Bigram Count Vectorizer without stop_words: 0.7661111111111112\n",
      "Count Vectorizer with stop_words:0.8027777777777778\n",
      "Bigram Count Vectorizer with stop_words: 0.6883333333333334\n"
     ]
    }
   ],
   "source": [
    "v = CountVectorizer()\n",
    "X = v.fit_transform(txts) \n",
    "print(f\"Count Vectorizer with default parameter {cross_validate(nb, X, y)}\")\n",
    "\n",
    "bigram_vector =  CountVectorizer(ngram_range=(1, 2),token_pattern=r'\\b\\w+\\b')\n",
    "X= bigram_vector.fit_transform(txts)\n",
    "print(f\"Bigram Count Vectorizer without stop_words: {cross_validate(nb, X, y)}\")\n",
    "\n",
    "v = CountVectorizer(stop_words='english') \n",
    "X = v.fit_transform(txts)\n",
    "print(f\"Count Vectorizer with stop_words:{cross_validate(nb, X, y)}\")\n",
    "\n",
    "bigram_vector =  CountVectorizer(stop_words='english',ngram_range=(1, 2),token_pattern=r'\\b\\w+\\b')\n",
    "X= bigram_vector.fit_transform(txts)\n",
    "print(f\"Bigram Count Vectorizer with stop_words: {cross_validate(nb, X, y)}\")"
   ]
  },
  {
   "cell_type": "markdown",
   "metadata": {},
   "source": [
    "Above are four situations with two parameter variables: n-gram tokenization and stop_words. Interstingly, we found though CountVectorizer with bi-gram token behaved a bit better than one-gram vector(0.76>0.75), but once adding stop words, bi-gram vectorizer dropped to 0.68 while one-gram vectorizer improved to 0.80. So we made the decision to use one-gram CountVecorizer() with stop_words as parameter in this step. "
   ]
  },
  {
   "cell_type": "markdown",
   "metadata": {},
   "source": [
    "---------------------------------------------\n",
    "####  Feature Selection\n",
    "\n",
    "It is important to examine and understand the model features both to convince that the important features are plausible, and to consider removing the unimportant features.  What features did you use in the model, and how did you make that choice?  List some of the most important features.  Are you convinced that they are are accurate exemplars of the class, or might they be artifacts of the training set?  List some of the least important features -- do they suggest ways to cut down the model size without significantly affecting accuracy?  \n",
    "\n",
    "#### ---Answer---\n",
    "In class we looked at three ways of estimating the impact of a term on a model\n",
    "\n",
    "* <b>Frequency-based selection</b>\n",
    "\n",
    "As demonstrated, we decided to use stopwords. In addition to that we checked different values of min_df and max_df in our model. However, none of the adjustements of min_df and max_df improved the model enough, so we decided not use them in our best model\n",
    "\n",
    "\n",
    "The best min_df was 0.03\n",
    "\n",
    "The best max_df is around 0.4 but it doesn't show a strong improvement\n",
    "\n",
    "\n"
   ]
  },
  {
   "cell_type": "code",
   "execution_count": 20,
   "metadata": {},
   "outputs": [
    {
     "data": {
      "image/png": "[encoded data removed]",
      "text/plain": [
       "<Figure size 432x288 with 1 Axes>"
      ]
     },
     "metadata": {},
     "output_type": "display_data"
    }
   ],
   "source": [
    "#min_df\n",
    "xval = []\n",
    "yval = []\n",
    "m = 0.0\n",
    "while(m <= 0.15):\n",
    "    xval.append(m)\n",
    "    stopwords =  CountVectorizer(stop_words='english', min_df=m)\n",
    "    X= stopwords.fit_transform(txts)\n",
    "    yval.append(cross_validate(nb, X, y))\n",
    "    m = m + 0.01\n",
    "    \n",
    "%matplotlib inline\n",
    "import matplotlib.pyplot as plt\n",
    "plt.style.use('seaborn-whitegrid')\n",
    "import numpy as np\n",
    "fig = plt.figure()\n",
    "ax = plt.axes()\n",
    "ax.set_xlabel('Min_df')\n",
    "ax.set_ylabel('Accuracy')\n",
    "ax.plot(xval, yval);    "
   ]
  },
  {
   "cell_type": "code",
   "execution_count": 21,
   "metadata": {},
   "outputs": [
    {
     "data": {
      "image/png": "[encoded data removed]",
      "text/plain": [
       "<Figure size 432x288 with 1 Axes>"
      ]
     },
     "metadata": {},
     "output_type": "display_data"
    }
   ],
   "source": [
    "# max_df\n",
    "xval = []\n",
    "yval = []\n",
    "m = 1.0\n",
    "while(m >= 0.1):\n",
    "    xval.append(m)\n",
    "    stopwords =  CountVectorizer(stop_words='english',max_df=m)\n",
    "    X= stopwords.fit_transform(txts)\n",
    "    yval.append(cross_validate(nb, X, y))\n",
    "    m = m - 0.01\n",
    "\n",
    "%matplotlib inline\n",
    "import matplotlib.pyplot as plt\n",
    "plt.style.use('seaborn-whitegrid')\n",
    "import numpy as np\n",
    "fig = plt.figure()\n",
    "ax = plt.axes()\n",
    "ax.set_xlabel('Max_df')\n",
    "ax.set_ylabel('Accuracy')\n",
    "ax.plot(xval, yval);   "
   ]
  },
  {
   "cell_type": "markdown",
   "metadata": {},
   "source": [
    "* <b>Mutual information</b>\n",
    "\n",
    "\n",
    "We selected our KBest by using mutual information measure. We did it by exploration on the graph. Our options were: \n",
    "* no parameters (no stop_words or min_dif addded)\n",
    "* stop_word without min_df \n",
    "* stop_word with min_df\n",
    "\n",
    "The decision was to use 730 Kbest features\n",
    "\n",
    "Exploration:\n",
    "\n",
    "* The first option gave us KBest 1150 and accuracy of 0.8866666666666667\n",
    "* Second option gave us KBest 730 and accuracy of 0.903888888888889\n",
    "* Third option gave us KBest 50 and accuracy of 0.9366666666666668\n",
    "\n",
    "\n",
    "We decided to use option b KBest with 730. Using only 50 features might be too low and too aligned to training data (overfitting)"
   ]
  },
  {
   "cell_type": "code",
   "execution_count": 22,
   "metadata": {},
   "outputs": [],
   "source": [
    "from sklearn.feature_selection import SelectKBest\n",
    "from sklearn.feature_selection import mutual_info_classif\n",
    "\n",
    "def k_features_x(k, X, y, fs=mutual_info_classif):\n",
    "    kbest = SelectKBest(fs, k=k)  \n",
    "    return kbest.fit_transform(X, y)\n",
    "\n",
    "\n",
    "def k_features_accuracy(k, clf, X, y, fs=mutual_info_classif): \n",
    "     # changed matrix \n",
    "    X_new = k_features_x(k, X, y, fs)\n",
    "    return cross_validate(clf, X_new, y) "
   ]
  },
  {
   "cell_type": "code",
   "execution_count": 23,
   "metadata": {},
   "outputs": [
    {
     "data": {
      "image/png": "[encoded data removed]",
      "text/plain": [
       "<Figure size 432x288 with 1 Axes>"
      ]
     },
     "metadata": {},
     "output_type": "display_data"
    }
   ],
   "source": [
    "# without parameters, all features\n",
    "nb = MultinomialNB()\n",
    "v = CountVectorizer()\n",
    "X = v.fit_transform(txts)\n",
    "\n",
    "xval = []\n",
    "yval = []\n",
    "for k in range(100, 4000, 100):   \n",
    "    xval.append(k)\n",
    "    yval.append(k_features_accuracy(k, nb, X, y))\n",
    "\n",
    "for k in range(4000, X.shape[1], 500):\n",
    "    xval.append(k)\n",
    "    yval.append(k_features_accuracy(k, nb, X, y))\n",
    "\n",
    "%matplotlib inline\n",
    "import matplotlib.pyplot as plt\n",
    "plt.style.use('seaborn-whitegrid')\n",
    "import numpy as np\n",
    "fig = plt.figure()\n",
    "ax = plt.axes()\n",
    "ax.plot(xval, yval);"
   ]
  },
  {
   "cell_type": "code",
   "execution_count": 24,
   "metadata": {},
   "outputs": [
    {
     "data": {
      "image/png": "[encoded data removed]",
      "text/plain": [
       "<Figure size 432x288 with 1 Axes>"
      ]
     },
     "metadata": {},
     "output_type": "display_data"
    }
   ],
   "source": [
    "# without parameters, region of interest [1140, 1180]\n",
    "nb = MultinomialNB()\n",
    "v = CountVectorizer()\n",
    "X = v.fit_transform(txts)\n",
    "\n",
    "xval = []\n",
    "yval = []\n",
    "for k in range(1140, 1180, 10):   # \n",
    "    xval.append(k)\n",
    "    yval.append(k_features_accuracy(k, nb, X, y))\n",
    "\n",
    "%matplotlib inline\n",
    "import matplotlib.pyplot as plt\n",
    "plt.style.use('seaborn-whitegrid')\n",
    "import numpy as np\n",
    "fig = plt.figure()\n",
    "ax = plt.axes()\n",
    "ax.plot(xval, yval);"
   ]
  },
  {
   "cell_type": "code",
   "execution_count": 25,
   "metadata": {},
   "outputs": [
    {
     "data": {
      "image/png": "[encoded data removed]",
      "text/plain": [
       "<Figure size 432x288 with 1 Axes>"
      ]
     },
     "metadata": {},
     "output_type": "display_data"
    }
   ],
   "source": [
    "# WITH stop_words, all features\n",
    "nb = MultinomialNB()\n",
    "v = CountVectorizer(stop_words='english')\n",
    "X = v.fit_transform(txts)\n",
    "\n",
    "xval = []\n",
    "yval = []\n",
    "for k in range(100, 4000, 100):   # \n",
    "    xval.append(k)\n",
    "    yval.append(k_features_accuracy(k, nb, X, y))\n",
    "\n",
    "for k in range(4000, X.shape[1], 500):\n",
    "    xval.append(k)\n",
    "    yval.append(k_features_accuracy(k, nb, X, y))\n",
    "\n",
    "%matplotlib inline\n",
    "import matplotlib.pyplot as plt\n",
    "plt.style.use('seaborn-whitegrid')\n",
    "import numpy as np\n",
    "fig = plt.figure()\n",
    "ax = plt.axes()\n",
    "ax.plot(xval, yval);"
   ]
  },
  {
   "cell_type": "code",
   "execution_count": 26,
   "metadata": {},
   "outputs": [
    {
     "data": {
      "image/png": "[encoded data removed]",
      "text/plain": [
       "<Figure size 432x288 with 1 Axes>"
      ]
     },
     "metadata": {},
     "output_type": "display_data"
    }
   ],
   "source": [
    "# WITH stop_words, region of interest [250, 800]\n",
    "nb = MultinomialNB()\n",
    "v = CountVectorizer(stop_words='english')\n",
    "X = v.fit_transform(txts)\n",
    "\n",
    "xval = []\n",
    "yval = []\n",
    "for k in range(250, 800, 10):   \n",
    "    xval.append(k)\n",
    "    yval.append(k_features_accuracy(k, nb, X, y))\n",
    "\n",
    "%matplotlib inline\n",
    "import matplotlib.pyplot as plt\n",
    "plt.style.use('seaborn-whitegrid')\n",
    "import numpy as np\n",
    "fig = plt.figure()\n",
    "ax = plt.axes()\n",
    "ax.plot(xval, yval);"
   ]
  },
  {
   "cell_type": "code",
   "execution_count": 27,
   "metadata": {},
   "outputs": [
    {
     "data": {
      "image/png": "[encoded data removed]",
      "text/plain": [
       "<Figure size 432x288 with 1 Axes>"
      ]
     },
     "metadata": {},
     "output_type": "display_data"
    }
   ],
   "source": [
    "# with stop_words and min_df, all the features\n",
    "nb = MultinomialNB()\n",
    "v = CountVectorizer(stop_words='english', min_df=0.03)\n",
    "X = v.fit_transform(txts)\n",
    "\n",
    "xval = []\n",
    "yval = []\n",
    "\n",
    "for k in range(1, X.shape[1], 50):\n",
    "    xval.append(k)\n",
    "    yval.append(k_features_accuracy(k, nb, X, y))\n",
    "\n",
    "%matplotlib inline\n",
    "import matplotlib.pyplot as plt\n",
    "plt.style.use('seaborn-whitegrid')\n",
    "import numpy as np\n",
    "fig = plt.figure()\n",
    "ax = plt.axes()\n",
    "ax.plot(xval, yval);"
   ]
  },
  {
   "cell_type": "code",
   "execution_count": 28,
   "metadata": {},
   "outputs": [
    {
     "data": {
      "image/png": "[encoded data removed]",
      "text/plain": [
       "<Figure size 432x288 with 1 Axes>"
      ]
     },
     "metadata": {},
     "output_type": "display_data"
    }
   ],
   "source": [
    "#with stop_words and min_df, Region of interest [40, 60]\n",
    "nb = MultinomialNB()\n",
    "v = CountVectorizer(stop_words='english', min_df=0.03)\n",
    "X = v.fit_transform(txts)\n",
    "\n",
    "xval = []\n",
    "yval = []\n",
    "\n",
    "for k in range(40, 60, 5):\n",
    "    xval.append(k)\n",
    "    yval.append(k_features_accuracy(k, nb, X, y))\n",
    "\n",
    "%matplotlib inline\n",
    "import matplotlib.pyplot as plt\n",
    "plt.style.use('seaborn-whitegrid')\n",
    "import numpy as np\n",
    "fig = plt.figure()\n",
    "ax = plt.axes()\n",
    "ax.plot(xval, yval);"
   ]
  },
  {
   "cell_type": "code",
   "execution_count": 29,
   "metadata": {},
   "outputs": [
    {
     "name": "stdout",
     "output_type": "stream",
     "text": [
      "0.8866666666666667\n",
      "0.903888888888889\n",
      "0.9366666666666668\n"
     ]
    }
   ],
   "source": [
    "# Accuracy Comparison\n",
    "print(k_features_accuracy(1150, MultinomialNB(), CountVectorizer().fit_transform(txts), y))\n",
    "print(k_features_accuracy(730, MultinomialNB(), CountVectorizer(stop_words='english').fit_transform(txts), y))\n",
    "print(k_features_accuracy(50, MultinomialNB(), CountVectorizer(stop_words='english', min_df=0.03).fit_transform(txts), y))"
   ]
  },
  {
   "cell_type": "markdown",
   "metadata": {},
   "source": [
    "* <b>Feature log probabilities</b>, i.e. $P(f_i | C)$ \n",
    "\n",
    "We did not explore using feature log probabilies because we have three categories making it difficult to execute.\n",
    "\n",
    "\n",
    "\n",
    "\n",
    "* <b>Important Features (in order)</b>:\n",
    "\n",
    "    * Books: Book, life, books, writen\n",
    "\n",
    "    * Movies & TV: film, like, time, good\n",
    "\n",
    "    * Music: music, op, song, cd\n",
    "\n",
    "Important features make sense to be related to each class. However, for Movies & TV the words like, time, and good are not very realted to a movie. Probably the reviews in the training data showed mostly good reviews for movies, but we cannot be sure about that for test data.\n",
    "\n",
    "\n",
    "* <b>Least Important Features</b>:\n",
    "\n",
    "We got very rare least important features such as numbers, or years. Maybe we could explore more the extraction of these values.\n",
    "\n",
    "Some examples are: 000, 102, 2000, 1990s\n",
    "\n",
    "<b> Analysis </b>\n",
    "\n",
    "How different are the three measures, i.e. do they all tend to rank the same variables as significant and insignificant?  Which did you use in your model, and why?\n",
    "\n",
    "We decided to use KBest according to mutual information in addition to the stopwords. because it gave us an improved accuracy without a radical decrease in the number of features. "
   ]
  },
  {
   "cell_type": "code",
   "execution_count": 30,
   "metadata": {},
   "outputs": [],
   "source": [
    "\"\"\" important Features\"\"\"\n",
    "def important_features(vectorizer,classifier,n=20):\n",
    "    feature_names =vectorizer.get_feature_names()\n",
    "    #bad features\n",
    "    frac_and_name_book = sorted(zip(classifier.feature_log_prob_[0], feature_names),reverse=False)[:n]\n",
    "    frac_and_name_movies = sorted(zip(classifier.feature_log_prob_[1], feature_names),reverse=False)[:n]   \n",
    "    frac_and_name_music = sorted(zip(classifier.feature_log_prob_[2], feature_names),reverse=False)[:n]\n",
    "    \n",
    "    #good features\n",
    "    frac_and_name_book = sorted(zip(classifier.feature_log_prob_[0], feature_names),reverse=True)[:n]\n",
    "    frac_and_name_movies = sorted(zip(classifier.feature_log_prob_[1], feature_names),reverse=True)[:n]   \n",
    "    frac_and_name_music = sorted(zip(classifier.feature_log_prob_[2], feature_names),reverse=True)[:n]\n",
    "    \n",
    "    \n",
    "    print(f\"Important words BOOK\")\n",
    "    for coef, feat in frac_and_name_book:\n",
    "        print(coef, feat)\n",
    "    print(\"==========\")\n",
    "    print(f\"Important words MOVIES & TV\")\n",
    "    for coef, feat in frac_and_name_movies:\n",
    "        print(coef, feat)\n",
    "    print(\"==========\")\n",
    "    print(f\"Important words MUSIC\")\n",
    "    for coef, feat in frac_and_name_music:\n",
    "        print(coef, feat)"
   ]
  },
  {
   "cell_type": "code",
   "execution_count": 31,
   "metadata": {},
   "outputs": [
    {
     "name": "stdout",
     "output_type": "stream",
     "text": [
      "Important words BOOK\n",
      "-4.73709772903064 book\n",
      "-6.049284117996809 life\n",
      "-6.049284117996809 books\n",
      "-6.149367576553791 written\n",
      "-6.149367576553791 new\n",
      "-6.149367576553791 like\n",
      "-6.149367576553791 good\n",
      "-6.32121783348045 wesley\n",
      "-6.32121783348045 read\n",
      "-6.32121783348045 great\n",
      "-6.385756354618021 reading\n",
      "-6.385756354618021 people\n",
      "-6.385756354618021 patients\n",
      "-6.385756354618021 mdash\n",
      "-6.454749226104973 world\n",
      "-6.454749226104973 university\n",
      "-6.454749226104973 author\n",
      "-6.528857198258695 writing\n",
      "-6.528857198258695 walser\n",
      "-6.528857198258695 information\n",
      "==========\n",
      "Important words MOVIES & TV\n",
      "-5.9760336000774394 film\n",
      "-6.018593214496235 like\n",
      "-6.158355156871394 time\n",
      "-6.158355156871394 good\n",
      "-6.2096484512589445 movie\n",
      "-6.2096484512589445 dvd\n",
      "-6.320874086369169 new\n",
      "-6.381498708185603 just\n",
      "-6.381498708185603 great\n",
      "-6.446037229323174 series\n",
      "-6.5891380729638485 western\n",
      "-6.5891380729638485 music\n",
      "-6.5891380729638485 master\n",
      "-6.5891380729638485 love\n",
      "-6.669180780637385 years\n",
      "-6.669180780637385 way\n",
      "-6.669180780637385 big\n",
      "-6.756192157627014 world\n",
      "-6.756192157627014 swing\n",
      "-6.756192157627014 students\n",
      "==========\n",
      "Important words MUSIC\n",
      "-5.356458780568442 music\n",
      "-5.671539827208337 op\n",
      "-5.831882477283516 songs\n",
      "-5.87633423985435 cd\n",
      "-5.922854255489243 great\n",
      "-5.922854255489243 album\n",
      "-6.0229377140462255 like\n",
      "-6.077004935316501 major\n",
      "-6.13416334915645 set\n",
      "-6.13416334915645 jazz\n",
      "-6.259326492110455 song\n",
      "-6.328319363597407 radio\n",
      "-6.328319363597407 played\n",
      "-6.328319363597407 piano\n",
      "-6.328319363597407 life\n",
      "-6.328319363597407 heard\n",
      "-6.402427335751129 string\n",
      "-6.402427335751129 pieces\n",
      "-6.402427335751129 aacute\n",
      "-6.482470043424666 works\n"
     ]
    }
   ],
   "source": [
    "txts,y = make_training(\"products.txt\",\"reviews.txt\")\n",
    "\n",
    "v = CountVectorizer(stop_words='english')\n",
    "X = v.fit_transform(txts)\n",
    "b = MultinomialNB()\n",
    "b.fit(X, y)\n",
    "important_features(v, b, n=20)"
   ]
  },
  {
   "cell_type": "markdown",
   "metadata": {},
   "source": [
    "-------------------------------------------------\n",
    "#### Algorithm\n",
    "\n",
    "Which classification algorithm did you use;  what alternatives did you explore and how did you make the choice?  What hyperparameter optimization did you perform?\n",
    "\n",
    "#### ---Anwser---\n",
    "We chose MultinomialNB as the final classifier. In this part, we want to justify why we made this decision.\n",
    "\n",
    "To begin with two versions of Naive Bayes classifier, Bernoulli models the presence/absence of a feature; Multinomial models the number of counts of a feature. That is to say, MultinomialNB will classify a document based on the counts it finds of multiple keywords; whereas Bernoulli NB can only focus on a single keyword. The data we processed have many features and we believe the counts of some terms matter in classfiying the class. So we chose MultinomialNB over BernoulliNB. \n",
    "\n",
    "Secondly, comparing MuitlnomialNB with Rochhio classifier and KNN classifier, the results are displayed as follow, each classifier now with default setting. \n",
    "\n",
    "Notice: following comparisons are based on CountVectorizer() without stop_words parameter, also without selecting k best features."
   ]
  },
  {
   "cell_type": "code",
   "execution_count": 32,
   "metadata": {},
   "outputs": [],
   "source": [
    "from sklearn.model_selection import cross_val_score\n",
    "def cross_validate(clf, x, y):\n",
    "    return cross_val_score(clf,x,y,cv=10).mean()"
   ]
  },
  {
   "cell_type": "code",
   "execution_count": 33,
   "metadata": {},
   "outputs": [],
   "source": [
    "txts,ys = make_training(\"products.txt\",\"reviews.txt\")"
   ]
  },
  {
   "cell_type": "code",
   "execution_count": 34,
   "metadata": {},
   "outputs": [],
   "source": [
    "from sklearn.feature_extraction.text import CountVectorizer\n",
    "v = CountVectorizer()\n",
    "X = v.fit_transform(txts)"
   ]
  },
  {
   "cell_type": "code",
   "execution_count": 35,
   "metadata": {},
   "outputs": [],
   "source": [
    "from sklearn.naive_bayes import MultinomialNB\n",
    "nb = MultinomialNB()"
   ]
  },
  {
   "cell_type": "code",
   "execution_count": 36,
   "metadata": {},
   "outputs": [],
   "source": [
    "from sklearn.neighbors.nearest_centroid import NearestCentroid\n",
    "rocchio_clf =NearestCentroid()"
   ]
  },
  {
   "cell_type": "code",
   "execution_count": 37,
   "metadata": {},
   "outputs": [],
   "source": [
    "from sklearn.neighbors import KNeighborsClassifier\n",
    "knb_clf = KNeighborsClassifier()"
   ]
  },
  {
   "cell_type": "code",
   "execution_count": 38,
   "metadata": {},
   "outputs": [
    {
     "name": "stdout",
     "output_type": "stream",
     "text": [
      "Multinominal Naive Bayes 0.7577777777777779\n",
      "Nearest Centroid 0.4066666666666666\n",
      "Nearest neighbors 0.45666666666666655\n"
     ]
    }
   ],
   "source": [
    "print(f\"Multinominal Naive Bayes {cross_validate(nb, X, y)}\")\n",
    "print(f\"Nearest Centroid {cross_validate(rocchio_clf, X,y)}\")\n",
    "print(f\"Nearest neighbors {cross_validate(knb_clf, X, y)}\")"
   ]
  },
  {
   "cell_type": "markdown",
   "metadata": {},
   "source": [
    "From above, Rocchio classifiers loses without further improvement space. But for KNN, we may try to ajust the hyperparameter \"k\" to see if we get huge leap. Below are two ways to cross check the optimal number of neighbors. The second way draws plot, from first graph, we could tell the optimal number falls on range [1,20], then we narrowed [1,88] to [1,20], finding the optimal number is 5. "
   ]
  },
  {
   "cell_type": "code",
   "execution_count": 39,
   "metadata": {},
   "outputs": [
    {
     "name": "stderr",
     "output_type": "stream",
     "text": [
      "C:\\ProgramData\\Anaconda3\\lib\\site-packages\\sklearn\\model_selection\\_search.py:841: DeprecationWarning: The default of the `iid` parameter will change from True to False in version 0.22 and will be removed in 0.24. This will change numeric results when test-set sizes are unequal.\n",
      "  DeprecationWarning)\n"
     ]
    },
    {
     "data": {
      "text/plain": [
       "GridSearchCV(cv=10, error_score='raise-deprecating',\n",
       "       estimator=KNeighborsClassifier(algorithm='auto', leaf_size=30, metric='minkowski',\n",
       "           metric_params=None, n_jobs=None, n_neighbors=5, p=2,\n",
       "           weights='uniform'),\n",
       "       fit_params=None, iid='warn', n_jobs=None,\n",
       "       param_grid={'n_neighbors': range(1, 88)}, pre_dispatch='2*n_jobs',\n",
       "       refit=True, return_train_score='warn', scoring='accuracy',\n",
       "       verbose=0)"
      ]
     },
     "execution_count": 39,
     "metadata": {},
     "output_type": "execute_result"
    }
   ],
   "source": [
    "from sklearn.model_selection import GridSearchCV\n",
    "clf = GridSearchCV(knb_clf, {'n_neighbors': range(1,88,1)}, cv=10, scoring='accuracy')\n",
    "clf.fit(X, y)"
   ]
  },
  {
   "cell_type": "code",
   "execution_count": 40,
   "metadata": {},
   "outputs": [
    {
     "data": {
      "text/plain": [
       "KNeighborsClassifier(algorithm='auto', leaf_size=30, metric='minkowski',\n",
       "           metric_params=None, n_jobs=None, n_neighbors=5, p=2,\n",
       "           weights='uniform')"
      ]
     },
     "execution_count": 40,
     "metadata": {},
     "output_type": "execute_result"
    }
   ],
   "source": [
    "clf.best_estimator_"
   ]
  },
  {
   "cell_type": "code",
   "execution_count": 41,
   "metadata": {},
   "outputs": [
    {
     "data": {
      "text/plain": [
       "Text(0, 0.5, 'Accuracy')"
      ]
     },
     "execution_count": 41,
     "metadata": {},
     "output_type": "execute_result"
    },
    {
     "data": {
      "image/png": "[encoded data removed]",
      "text/plain": [
       "<Figure size 432x288 with 1 Axes>"
      ]
     },
     "metadata": {},
     "output_type": "display_data"
    }
   ],
   "source": [
    "neighbors = []\n",
    "accuracies = []\n",
    "\n",
    "for nn in range(1,88,1):\n",
    "    neighbors.append(nn)\n",
    "    accuracies.append(cross_validate(KNeighborsClassifier(n_neighbors=nn), X, y))\n",
    "    \n",
    "%matplotlib inline\n",
    "import matplotlib.pyplot as plt\n",
    "plt.style.use('seaborn-whitegrid')\n",
    "fig = plt.figure()\n",
    "ax = plt.axes()\n",
    "ax.plot(neighbors, accuracies);\n",
    "ax.set_xlabel('# Neighbors')\n",
    "ax.set_ylabel(\"Accuracy\")\n"
   ]
  },
  {
   "cell_type": "code",
   "execution_count": 42,
   "metadata": {},
   "outputs": [
    {
     "data": {
      "text/plain": [
       "Text(0, 0.5, 'Accuracy')"
      ]
     },
     "execution_count": 42,
     "metadata": {},
     "output_type": "execute_result"
    },
    {
     "data": {
      "image/png": "[encoded data removed]",
      "text/plain": [
       "<Figure size 432x288 with 1 Axes>"
      ]
     },
     "metadata": {},
     "output_type": "display_data"
    }
   ],
   "source": [
    "neighbors = []\n",
    "accuracies = []\n",
    "\n",
    "for nn in range(1,20,1):\n",
    "    neighbors.append(nn)\n",
    "    accuracies.append(cross_validate(KNeighborsClassifier(n_neighbors=nn), X, y))\n",
    "    \n",
    "# (x,y) line plot\n",
    "# The dip between 5 and 10 is odd, but it's a common pattern to see\n",
    "#  accuracy increase, peak for a while, then decrease\n",
    "%matplotlib inline\n",
    "import matplotlib.pyplot as plt\n",
    "plt.style.use('seaborn-whitegrid')\n",
    "fig = plt.figure()\n",
    "ax = plt.axes()\n",
    "ax.plot(neighbors, accuracies);\n",
    "ax.set_xlabel('# Neighbors')\n",
    "ax.set_ylabel(\"Accuracy\")"
   ]
  },
  {
   "cell_type": "code",
   "execution_count": 43,
   "metadata": {},
   "outputs": [
    {
     "name": "stdout",
     "output_type": "stream",
     "text": [
      "Nearest neighbors 0.45666666666666655\n"
     ]
    }
   ],
   "source": [
    "# using k nearest neighbor classifier with optimal 5\n",
    "from sklearn.neighbors import KNeighborsClassifier\n",
    "knb_clf = KNeighborsClassifier(n_neighbors=5)\n",
    "print(f\"Nearest neighbors {cross_validate(knb_clf, X, y)}\")"
   ]
  },
  {
   "cell_type": "markdown",
   "metadata": {},
   "source": [
    "It turns out the best number of neighbor happens to be the default settting, but accuracy score 0.456 is much overshawdowed by 0.75 of MultinomialNB. So we stick to MultinomialNB. "
   ]
  },
  {
   "cell_type": "markdown",
   "metadata": {},
   "source": [
    "----------------------------------------\n",
    "#### Understanding Misclassifications\n",
    "\n",
    "Even though misclassifications are inevitable, it is important to understand *why* your algorithm makes errors, and whether it is making \"understandable\" errors.   Choose several examples of misclassification and informally explain why you believe the classifier made the wrong choice.  Is/was there anything you might be able to do in terms of feature engineering to fix some misclassifications?\n",
    "\n",
    "#### ---Answer---\n",
    "Through the evolution of parameter exploring, now our model final score reaches 0.903, good but not enough. So we printed out the misclassification as the professor instructed. After that we took a close look at examples. "
   ]
  },
  {
   "cell_type": "code",
   "execution_count": 44,
   "metadata": {},
   "outputs": [],
   "source": [
    "from sklearn.model_selection import cross_val_score\n",
    "def cross_validate(clf, x, y):\n",
    "    return cross_val_score(clf,x,y,cv=10).mean()"
   ]
  },
  {
   "cell_type": "code",
   "execution_count": 45,
   "metadata": {},
   "outputs": [
    {
     "data": {
      "text/plain": [
       "0.903888888888889"
      ]
     },
     "execution_count": 45,
     "metadata": {},
     "output_type": "execute_result"
    }
   ],
   "source": [
    "from sklearn.feature_extraction.text import CountVectorizer\n",
    "from sklearn.naive_bayes import MultinomialNB\n",
    "from sklearn.feature_selection import SelectKBest\n",
    "from sklearn.feature_selection import mutual_info_classif\n",
    "\n",
    "nb = MultinomialNB()\n",
    "v = CountVectorizer(stop_words='english')\n",
    "txts,y = make_training(\"products.txt\", \"reviews.txt\")\n",
    "X = v.fit_transform(txts)\n",
    "kbest = SelectKBest(mutual_info_classif, 730)\n",
    "X=kbest.fit_transform(X,y)\n",
    "nb.fit(X,y)\n",
    "\n",
    "cross_validate(nb, X, y)"
   ]
  },
  {
   "cell_type": "code",
   "execution_count": 46,
   "metadata": {},
   "outputs": [
    {
     "data": {
      "text/plain": [
       "array([[80, (2, 1)]], dtype=object)"
      ]
     },
     "execution_count": 46,
     "metadata": {},
     "output_type": "execute_result"
    }
   ],
   "source": [
    "import numpy as np\n",
    "\n",
    "y_pred = our_model.predict(X)\n",
    "mask = y_pred != np.array(y)\n",
    "misclassed = np.array(list(zip(range(0,len(y_pred)), zip(y, y_pred))),object)\n",
    "misclassed[mask]"
   ]
  },
  {
   "cell_type": "code",
   "execution_count": 47,
   "metadata": {
    "scrolled": true
   },
   "outputs": [
    {
     "name": "stdout",
     "output_type": "stream",
     "text": [
      "Rio 2 Fantastic  music I cannot wait to see the movie and buy the DVD.Takes me away to Rio. Just close your eyes and your there.\n",
      "2\n"
     ]
    }
   ],
   "source": [
    "#[80, (2, 1)]\n",
    "print(txts[80])   \n",
    "print(y[80])"
   ]
  },
  {
   "cell_type": "markdown",
   "metadata": {},
   "source": [
    "The above example is actually \"Music\" but misclassified as \"Movie & TV\". Taking a close look at review which contains imporantnt features like \"movie, DVD\" which is highly relevant to \"Movie & TV\" class. "
   ]
  }
 ],
 "metadata": {
  "kernelspec": {
   "display_name": "Python 3",
   "language": "python",
   "name": "python3"
  },
  "language_info": {
   "codemirror_mode": {
    "name": "ipython",
    "version": 3
   },
   "file_extension": ".py",
   "mimetype": "text/x-python",
   "name": "python",
   "nbconvert_exporter": "python",
   "pygments_lexer": "ipython3",
   "version": "3.7.1"
  }
 },
 "nbformat": 4,
 "nbformat_minor": 2
}
